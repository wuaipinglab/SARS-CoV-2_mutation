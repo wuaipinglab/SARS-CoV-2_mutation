{
 "cells": [
  {
   "cell_type": "code",
   "execution_count": 1,
   "metadata": {},
   "outputs": [],
   "source": [
    "import os\n",
    "import re\n",
    "import csv\n",
    "\n",
    "import pandas as pd\n",
    "from Bio import SeqIO, AlignIO\n",
    "from Bio.Align import MultipleSeqAlignment\n",
    "\n",
    "SNP_DIR = \"SNP\"\n",
    "\n",
    "REFERENCE = \"EPI_ISL_402124\""
   ]
  },
  {
   "cell_type": "markdown",
   "metadata": {},
   "source": [
    "# Spike gene sequence"
   ]
  },
  {
   "cell_type": "code",
   "execution_count": 2,
   "metadata": {},
   "outputs": [],
   "source": [
    "seqs = SeqIO.index(os.path.join(SNP_DIR,\"spike_selected.fasta\"), \"fasta\")\n",
    "\n",
    "reference = seqs[REFERENCE]"
   ]
  },
  {
   "cell_type": "code",
   "execution_count": 3,
   "metadata": {},
   "outputs": [
    {
     "name": "stdout",
     "output_type": "stream",
     "text": [
      "EPI_ISL_402124\n"
     ]
    }
   ],
   "source": [
    "trimmedRow = []\n",
    "repSeqs = []\n",
    "\n",
    "with open(os.path.join(SNP_DIR, \"trimmed.csv\"), \"w\") as csvfile:\n",
    "    spamwriter = csv.DictWriter(csvfile, delimiter='\\t', fieldnames = [\"rep\", \"trimmed\"])\n",
    "    spamwriter.writeheader()\n",
    "    with open(os.path.join(SNP_DIR, \"Trim_S.fasta.clstr\")) as f:\n",
    "        repID = None\n",
    "        accessions = []\n",
    "        for line in f:\n",
    "            if line.startswith('>'):\n",
    "                if repID:\n",
    "                    repSeqs.append(seqs[repID])\n",
    "                if len(accessions) > 1:\n",
    "                    spamwriter.writerow({\"rep\": repID, \"trimmed\": ', '.join(accessions) })\n",
    "                if REFERENCE in accessions:\n",
    "                    print(repID)\n",
    "                accessions = []\n",
    "            else:\n",
    "                m = re.findall(r\">(\\w+)\", line)[0]\n",
    "                if '*' in line:\n",
    "                    repID = m\n",
    "                accessions.append(m)\n",
    "        if len(accessions) > 1:\n",
    "            repSeqs.append(seqs[repID])\n",
    "            spamwriter.writerow({\"rep\": repID, \"trimmed\": ', '.join(accessions) })\n",
    "        if REFERENCE in accessions:\n",
    "            print(repID)"
   ]
  },
  {
   "cell_type": "code",
   "execution_count": 4,
   "metadata": {},
   "outputs": [],
   "source": [
    "aligned = MultipleSeqAlignment(repSeqs)\n",
    "\n",
    "with open(os.path.join(SNP_DIR, \"snp_trimmed.csv\"), 'w', newline='') as f:\n",
    "    spamwriter = csv.writer(f, delimiter=',')\n",
    "    for record in aligned:\n",
    "        snp = (0 if base == ref or base in (\"-\", \"N\") else 1 for ref, base in zip(reference, record))\n",
    "        spamwriter.writerow((record.id, *snp))"
   ]
  },
  {
   "cell_type": "markdown",
   "metadata": {},
   "source": [
    "# Spike protein AA"
   ]
  },
  {
   "cell_type": "code",
   "execution_count": 5,
   "metadata": {},
   "outputs": [],
   "source": [
    "seqs = SeqIO.index(os.path.join(SNP_DIR,\"spike_AA_selected.fasta\"), \"fasta\")\n",
    "\n",
    "reference = seqs[REFERENCE]"
   ]
  },
  {
   "cell_type": "code",
   "execution_count": 6,
   "metadata": {},
   "outputs": [
    {
     "name": "stdout",
     "output_type": "stream",
     "text": [
      "EPI_ISL_406798\n"
     ]
    }
   ],
   "source": [
    "trimmedRow = []\n",
    "repSeqs = []\n",
    "\n",
    "with open(os.path.join(SNP_DIR, \"trimmed_AA.csv\"), \"w\") as csvfile:\n",
    "    spamwriter = csv.DictWriter(csvfile, delimiter='\\t', fieldnames = [\"rep\", \"trimmed\"])\n",
    "    spamwriter.writeheader()\n",
    "    with open(os.path.join(SNP_DIR, \"Trim_S_AA.fasta.clstr\")) as f:\n",
    "        repID = None\n",
    "        accessions = []\n",
    "        for line in f:\n",
    "            if line.startswith('>'):\n",
    "                if repID:\n",
    "                    repSeqs.append(seqs[repID])\n",
    "                if len(accessions) > 1:\n",
    "                    spamwriter.writerow({\"rep\": repID, \"trimmed\": ', '.join(accessions) })\n",
    "                if REFERENCE in accessions:\n",
    "                    print(repID)\n",
    "                accessions = []\n",
    "            else:\n",
    "                m = re.findall(r\">(\\w+)\", line)[0]\n",
    "                if '*' in line:\n",
    "                    repID = m\n",
    "                accessions.append(m)\n",
    "        if len(accessions) > 1:\n",
    "            repSeqs.append(seqs[repID])\n",
    "            spamwriter.writerow({\"rep\": repID, \"trimmed\": ', '.join(accessions) })\n",
    "        if REFERENCE in accessions:\n",
    "            print(repID)"
   ]
  },
  {
   "cell_type": "code",
   "execution_count": 17,
   "metadata": {},
   "outputs": [],
   "source": [
    "variant_AA = pd.read_csv(os.path.join(SNP_DIR, \"variant_AA_S.csv\"), header=None, index_col=0)\n",
    "\n",
    "rowNames = tuple(str(siteName) for siteName in variant_AA.index)"
   ]
  },
  {
   "cell_type": "code",
   "execution_count": 18,
   "metadata": {},
   "outputs": [],
   "source": [
    "aligned = MultipleSeqAlignment(repSeqs)\n",
    "\n",
    "with open(os.path.join(SNP_DIR, \"snp_AA_trimmed.csv\"), 'w', newline='') as f:\n",
    "    spamwriter = csv.writer(f, delimiter=',')\n",
    "    spamwriter.writerow((\"gisaid_id\", *rowNames))\n",
    "    for record in aligned:\n",
    "        snp = tuple(0 if base == ref or base in (\"-\", \"X\") else 1 for ref, base in zip(reference, record))\n",
    "        if sum(snp):\n",
    "            spamwriter.writerow((record.id, *snp, 0))"
   ]
  },
  {
   "cell_type": "code",
   "execution_count": 19,
   "metadata": {},
   "outputs": [],
   "source": [
    "aligned = AlignIO.read(os.path.join(SNP_DIR, \"spike_AA_selected.fasta\"), \"fasta\")\n",
    "\n",
    "with open(os.path.join(SNP_DIR, \"snp_AA.csv\"), 'w', newline='') as f:\n",
    "    spamwriter = csv.writer(f, delimiter=',')\n",
    "    spamwriter.writerow((\"gisaid_id\", *rowNames))\n",
    "    for record in aligned:\n",
    "        snp = tuple(0 if base == ref or base in (\"-\", \"X\") else 1 for ref, base in zip(reference, record))\n",
    "        if sum(snp):\n",
    "            spamwriter.writerow((record.id, *snp, 0), )"
   ]
  }
 ],
 "metadata": {
  "kernelspec": {
   "display_name": "Python 3",
   "language": "python",
   "name": "python3"
  },
  "language_info": {
   "codemirror_mode": {
    "name": "ipython",
    "version": 3
   },
   "file_extension": ".py",
   "mimetype": "text/x-python",
   "name": "python",
   "nbconvert_exporter": "python",
   "pygments_lexer": "ipython3",
   "version": "3.7.3"
  }
 },
 "nbformat": 4,
 "nbformat_minor": 4
}

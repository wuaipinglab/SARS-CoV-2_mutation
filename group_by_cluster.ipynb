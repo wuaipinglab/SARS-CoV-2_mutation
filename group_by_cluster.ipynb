{
 "cells": [
  {
   "cell_type": "code",
   "execution_count": 1,
   "metadata": {},
   "outputs": [],
   "source": [
    "import os\n",
    "import shutil\n",
    "from collections import defaultdict\n",
    "\n",
    "import pandas as pd\n",
    "from Bio import SeqIO\n",
    "\n",
    "METADATA_DIR = \"Metadata\"\n",
    "SNP_DIR = \"SNP\"\n",
    "CLUSTER_TRIM_DIR = \"ClusterTrim\"\n",
    "\n",
    "if os.path.exists(CLUSTER_TRIM_DIR):\n",
    "    shutil.rmtree(CLUSTER_TRIM_DIR)\n",
    "os.mkdir(CLUSTER_TRIM_DIR)"
   ]
  },
  {
   "cell_type": "code",
   "execution_count": 2,
   "metadata": {},
   "outputs": [],
   "source": [
    "metadata = pd.read_csv(os.path.join(METADATA_DIR, \"SARS_CoV_2.csv\"), index_col=0)\n",
    "metadata.loc[pd.isna(metadata['Nextstrain_clade']), \"Nextstrain_clade\"] = \"unknown\""
   ]
  },
  {
   "cell_type": "code",
   "execution_count": 3,
   "metadata": {},
   "outputs": [
    {
     "data": {
      "text/plain": [
       "array(['19A', '20A', '20C', '20B', '19B', '20G', '20D', '20F',\n",
       "       '20E (EU1)', '20A.EU2', '20I/501Y.V1', '20H/501Y.V2', 'unknown'],\n",
       "      dtype=object)"
      ]
     },
     "execution_count": 3,
     "metadata": {},
     "output_type": "execute_result"
    }
   ],
   "source": [
    "metadata[\"Nextstrain_clade\"].unique()"
   ]
  },
  {
   "cell_type": "code",
   "execution_count": 4,
   "metadata": {},
   "outputs": [],
   "source": [
    "ac2clade = {}\n",
    "\n",
    "for clade, info in metadata.groupby(\"Nextstrain_clade\"):\n",
    "    if pd.isna(clade):\n",
    "        print(clade)\n",
    "    for ac in info.index:\n",
    "        ac2clade[ac] = clade"
   ]
  },
  {
   "cell_type": "markdown",
   "metadata": {},
   "source": [
    "# 20aa cluster grouping"
   ]
  },
  {
   "cell_type": "code",
   "execution_count": 5,
   "metadata": {},
   "outputs": [],
   "source": [
    "groupedSeqs = defaultdict(list)\n",
    "\n",
    "for record in SeqIO.parse(os.path.join(SNP_DIR, \"spike_AA_selected_20.fasta\"), \"fasta\"):\n",
    "    clade = ac2clade[record.id]\n",
    "    groupedSeqs[clade].append(record)"
   ]
  },
  {
   "cell_type": "code",
   "execution_count": 6,
   "metadata": {},
   "outputs": [],
   "source": [
    "for clade, seqs in groupedSeqs.items():\n",
    "    clade = clade.replace('/', '_').replace(' ', '_')\n",
    "    outdir = os.path.join(CLUSTER_TRIM_DIR, clade)\n",
    "    if not os.path.exists(outdir):\n",
    "        os.mkdir(outdir)\n",
    "    SeqIO.write(seqs, os.path.join(outdir, \"sequences.fasta\"), \"fasta\")"
   ]
  }
 ],
 "metadata": {
  "kernelspec": {
   "display_name": "Python 3",
   "language": "python",
   "name": "python3"
  },
  "language_info": {
   "codemirror_mode": {
    "name": "ipython",
    "version": 3
   },
   "file_extension": ".py",
   "mimetype": "text/x-python",
   "name": "python",
   "nbconvert_exporter": "python",
   "pygments_lexer": "ipython3",
   "version": "3.7.3"
  }
 },
 "nbformat": 4,
 "nbformat_minor": 4
}

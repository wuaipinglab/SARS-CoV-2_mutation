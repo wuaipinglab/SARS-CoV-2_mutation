{
 "cells": [
  {
   "cell_type": "code",
   "execution_count": 1,
   "metadata": {},
   "outputs": [],
   "source": [
    "import os\n",
    "import re\n",
    "import csv\n",
    "\n",
    "import pandas as pd\n",
    "from Bio import SeqIO, AlignIO\n",
    "from Bio.Align import MultipleSeqAlignment\n",
    "\n",
    "SNP_DIR = \"SNP\"\n",
    "REFSEQ_DIR = \"RefSeq\"\n",
    "METADATA = \"Metadata\"\n",
    "\n",
    "REFERENCE = \"EPI_ISL_402124\""
   ]
  },
  {
   "cell_type": "markdown",
   "metadata": {},
   "source": [
    "# Spike protein AA"
   ]
  },
  {
   "cell_type": "markdown",
   "metadata": {},
   "source": [
    "## 20aa"
   ]
  },
  {
   "cell_type": "code",
   "execution_count": 2,
   "metadata": {},
   "outputs": [],
   "source": [
    "seqs = SeqIO.index(os.path.join(SNP_DIR, \"spike_AA_selected_20.fasta\"), \"fasta\")\n",
    "\n",
    "reference = seqs[REFERENCE]"
   ]
  },
  {
   "cell_type": "code",
   "execution_count": 3,
   "metadata": {},
   "outputs": [],
   "source": [
    "annotation = pd.read_csv(os.path.join(REFSEQ_DIR, \"SARS_CoV_2.csv\"), index_col=0)\n",
    "siteMapping = {str(peptidePos): str(info['aaPos'].values[0]) for peptidePos, info in annotation.groupby(\"peptidePos\")}"
   ]
  },
  {
   "cell_type": "code",
   "execution_count": 4,
   "metadata": {},
   "outputs": [],
   "source": [
    "mutMapping = {}\n",
    "\n",
    "with open(os.path.join(SNP_DIR, \"variant_site_AA.csv\")) as f:\n",
    "    for row in csv.DictReader(f):\n",
    "        site = row.pop('')\n",
    "        row = {aa: int(freq) for aa, freq in row.items()}\n",
    "        if site != \"7711\":\n",
    "            preMut = max(row, key=row.get)\n",
    "        else:\n",
    "            preMut = \"D\"\n",
    "        row.pop(preMut)\n",
    "        postMut = max(row, key=row.get)\n",
    "        mutMapping[site] = preMut + siteMapping[site] + postMut"
   ]
  },
  {
   "cell_type": "code",
   "execution_count": 5,
   "metadata": {},
   "outputs": [],
   "source": [
    "variant_AA = pd.read_csv(os.path.join(SNP_DIR, \"variant_AA_S_20.csv\"), header=None, index_col=0)\n",
    "\n",
    "rowNames = tuple(mutMapping[str(siteName)] for siteName in variant_AA.index)"
   ]
  },
  {
   "cell_type": "code",
   "execution_count": 7,
   "metadata": {},
   "outputs": [],
   "source": [
    "metadata = pd.read_csv(os.path.join(METADATA, \"SARS_CoV_2.csv\"), index_col=0)\n",
    "metadata.loc[pd.isna(metadata['Nextstrain_clade']), \"Nextstrain_clade\"] = \"unknown\""
   ]
  },
  {
   "cell_type": "code",
   "execution_count": 8,
   "metadata": {},
   "outputs": [],
   "source": [
    "ac2clade = {}\n",
    "\n",
    "for clade, info in metadata.groupby(\"Nextstrain_clade\"):\n",
    "    if pd.isna(clade):\n",
    "        print(clade)\n",
    "    for ac in info.index:\n",
    "        ac2clade[ac] = clade"
   ]
  },
  {
   "cell_type": "code",
   "execution_count": 32,
   "metadata": {},
   "outputs": [],
   "source": [
    "D614G_index = -1\n",
    "\n",
    "for n, i in enumerate(rowNames):\n",
    "    if i == \"D614G\":\n",
    "        D614G_index = n\n",
    "\n",
    "aligned = AlignIO.read(os.path.join(SNP_DIR, \"spike_AA_selected_20.fasta\"), \"fasta\")\n",
    "\n",
    "df = []\n",
    "\n",
    "for record in aligned:\n",
    "    snp = { rowNames[n]: 0 if base == ref or base in (\"-\", \"X\") else 1\n",
    "           for n, (ref, base) in enumerate(zip(reference, record)) }\n",
    "    snpFreq = list(snp.values())\n",
    "    if sum(snpFreq):\n",
    "        if snpFreq[D614G_index] == 1 and sum(snpFreq) == 1:\n",
    "            pass\n",
    "        else:\n",
    "            df.append({\"gisaid_id\": ac2clade[record.id] + \"_\" + record.id, **snp})\n",
    "            \n",
    "df = pd.DataFrame(df)\n",
    "df = df.sort_values('gisaid_id')\n",
    "df = df.set_index(\"gisaid_id\")\n",
    "df.to_csv(os.path.join(SNP_DIR, \"snp_AA.csv\"))"
   ]
  },
  {
   "cell_type": "markdown",
   "metadata": {},
   "source": [
    "# Trimmed by cluster"
   ]
  },
  {
   "cell_type": "markdown",
   "metadata": {},
   "source": [
    "## 50aa"
   ]
  },
  {
   "cell_type": "markdown",
   "metadata": {},
   "source": [
    "# Cluster comparison"
   ]
  },
  {
   "cell_type": "code",
   "execution_count": 9,
   "metadata": {},
   "outputs": [
    {
     "ename": "FileNotFoundError",
     "evalue": "[Errno 2] No such file or directory: 'SNP\\\\Trim_S_AA.fasta.clstr'",
     "output_type": "error",
     "traceback": [
      "\u001b[1;31m---------------------------------------------------------------------------\u001b[0m",
      "\u001b[1;31mFileNotFoundError\u001b[0m                         Traceback (most recent call last)",
      "\u001b[1;32m<ipython-input-9-642f43210a03>\u001b[0m in \u001b[0;36m<module>\u001b[1;34m\u001b[0m\n\u001b[0;32m      4\u001b[0m     \u001b[0mspamwriter\u001b[0m \u001b[1;33m=\u001b[0m \u001b[0mcsv\u001b[0m\u001b[1;33m.\u001b[0m\u001b[0mDictWriter\u001b[0m\u001b[1;33m(\u001b[0m\u001b[0mcsvfile\u001b[0m\u001b[1;33m,\u001b[0m \u001b[0mdelimiter\u001b[0m\u001b[1;33m=\u001b[0m\u001b[1;34m'\\t'\u001b[0m\u001b[1;33m,\u001b[0m \u001b[0mfieldnames\u001b[0m \u001b[1;33m=\u001b[0m \u001b[1;33m[\u001b[0m\u001b[1;34m\"rep\"\u001b[0m\u001b[1;33m,\u001b[0m \u001b[1;34m\"trimmed\"\u001b[0m\u001b[1;33m]\u001b[0m\u001b[1;33m)\u001b[0m\u001b[1;33m\u001b[0m\u001b[1;33m\u001b[0m\u001b[0m\n\u001b[0;32m      5\u001b[0m     \u001b[0mspamwriter\u001b[0m\u001b[1;33m.\u001b[0m\u001b[0mwriteheader\u001b[0m\u001b[1;33m(\u001b[0m\u001b[1;33m)\u001b[0m\u001b[1;33m\u001b[0m\u001b[1;33m\u001b[0m\u001b[0m\n\u001b[1;32m----> 6\u001b[1;33m     \u001b[1;32mwith\u001b[0m \u001b[0mopen\u001b[0m\u001b[1;33m(\u001b[0m\u001b[0mos\u001b[0m\u001b[1;33m.\u001b[0m\u001b[0mpath\u001b[0m\u001b[1;33m.\u001b[0m\u001b[0mjoin\u001b[0m\u001b[1;33m(\u001b[0m\u001b[0mSNP_DIR\u001b[0m\u001b[1;33m,\u001b[0m \u001b[1;34m\"Trim_S_AA.fasta.clstr\"\u001b[0m\u001b[1;33m)\u001b[0m\u001b[1;33m)\u001b[0m \u001b[1;32mas\u001b[0m \u001b[0mf\u001b[0m\u001b[1;33m:\u001b[0m\u001b[1;33m\u001b[0m\u001b[1;33m\u001b[0m\u001b[0m\n\u001b[0m\u001b[0;32m      7\u001b[0m         \u001b[0mrepID\u001b[0m \u001b[1;33m=\u001b[0m \u001b[1;32mNone\u001b[0m\u001b[1;33m\u001b[0m\u001b[1;33m\u001b[0m\u001b[0m\n\u001b[0;32m      8\u001b[0m         \u001b[0maccessions\u001b[0m \u001b[1;33m=\u001b[0m \u001b[1;33m[\u001b[0m\u001b[1;33m]\u001b[0m\u001b[1;33m\u001b[0m\u001b[1;33m\u001b[0m\u001b[0m\n",
      "\u001b[1;31mFileNotFoundError\u001b[0m: [Errno 2] No such file or directory: 'SNP\\\\Trim_S_AA.fasta.clstr'"
     ]
    }
   ],
   "source": [
    "trimmedRow = []\n",
    "\n",
    "with open(os.path.join(SNP_DIR, \"trimmed_AA_cls.csv\"), \"w\") as csvfile:\n",
    "    spamwriter = csv.DictWriter(csvfile, delimiter='\\t', fieldnames = [\"rep\", \"trimmed\"])\n",
    "    spamwriter.writeheader()\n",
    "    with open(os.path.join(SNP_DIR, \"Trim_S_AA.fasta.clstr\")) as f:\n",
    "        repID = None\n",
    "        accessions = []\n",
    "        for line in f:\n",
    "            if line.startswith('>'):\n",
    "                if len(accessions) > 1:\n",
    "                    accessions = set(accessions)\n",
    "                    if len(accessions) > 1:\n",
    "                        spamwriter.writerow({\"rep\": ac2clade[repID], \"trimmed\": ', '.join(accessions) })\n",
    "                if REFERENCE in accessions:\n",
    "                    print(repID)\n",
    "                accessions = []\n",
    "            else:\n",
    "                m = re.findall(r\">(\\w+)\", line)[0]\n",
    "                if '*' in line:\n",
    "                    repID = m\n",
    "                accessions.append(ac2clade[m])\n",
    "        if len(accessions) > 1:\n",
    "            accessions = set(accessions)\n",
    "            if len(accessions) > 1:\n",
    "                spamwriter.writerow({\"rep\": ac2clade[repID], \"trimmed\": ', '.join(accessions) })\n",
    "        if REFERENCE in accessions:\n",
    "            print(repID)"
   ]
  },
  {
   "cell_type": "code",
   "execution_count": null,
   "metadata": {},
   "outputs": [],
   "source": [
    "seqs = SeqIO.index(os.path.join(SNP_DIR, \"spike_AA_selected.fasta\"), \"fasta\")\n",
    "\n",
    "reference = seqs[REFERENCE]"
   ]
  },
  {
   "cell_type": "code",
   "execution_count": null,
   "metadata": {},
   "outputs": [],
   "source": [
    "trimmedRow = []\n",
    "repSeqs = []\n",
    "\n",
    "with open(os.path.join(SNP_DIR, \"trimmed_AA.csv\"), \"w\") as csvfile:\n",
    "    spamwriter = csv.DictWriter(csvfile, delimiter='\\t', fieldnames = [\"rep\", \"trimmed\"])\n",
    "    spamwriter.writeheader()\n",
    "    with open(os.path.join(SNP_DIR, \"Trim_S_AA.fasta.clstr\")) as f:\n",
    "        repID = None\n",
    "        accessions = []\n",
    "        for line in f:\n",
    "            if line.startswith('>'):\n",
    "                if repID:\n",
    "                    repSeqs.append(seqs[repID])\n",
    "                if len(accessions) > 1:\n",
    "                    spamwriter.writerow({\"rep\": repID, \"trimmed\": ', '.join(accessions) })\n",
    "                if REFERENCE in accessions:\n",
    "                    print(repID)\n",
    "                accessions = []\n",
    "            else:\n",
    "                m = re.findall(r\">(\\w+)\", line)[0]\n",
    "                if '*' in line:\n",
    "                    repID = m\n",
    "                accessions.append(m)\n",
    "        if len(accessions) > 1:\n",
    "            repSeqs.append(seqs[repID])\n",
    "            spamwriter.writerow({\"rep\": repID, \"trimmed\": ', '.join(accessions) })\n",
    "        if REFERENCE in accessions:\n",
    "            print(repID)"
   ]
  },
  {
   "cell_type": "code",
   "execution_count": null,
   "metadata": {},
   "outputs": [],
   "source": [
    "variant_site_AA = pd.read_csv(os.path.join(SNP_DIR, \"variant_site_AA.csv\"), index_col=0)"
   ]
  },
  {
   "cell_type": "code",
   "execution_count": null,
   "metadata": {},
   "outputs": [],
   "source": [
    "annotation = pd.read_csv(os.path.join(REFSEQ_DIR, \"SARS_CoV_2.csv\"), index_col=0)\n",
    "siteMapping = {str(peptidePos): str(info['aaPos'].values[0]) for peptidePos, info in annotation.groupby(\"peptidePos\")}"
   ]
  },
  {
   "cell_type": "code",
   "execution_count": null,
   "metadata": {},
   "outputs": [],
   "source": [
    "mutMapping = {}\n",
    "\n",
    "with open(os.path.join(SNP_DIR, \"variant_site_AA.csv\")) as f:\n",
    "    for row in csv.DictReader(f):\n",
    "        site = row.pop('')\n",
    "        row = {aa: int(freq) for aa, freq in row.items()}\n",
    "        if site != \"7711\":\n",
    "            preMut = max(row, key=row.get)\n",
    "        else:\n",
    "            preMut = \"D\"\n",
    "        row.pop(preMut)\n",
    "        postMut = max(row, key=row.get)\n",
    "        if site == \"7598\":\n",
    "            print(row)\n",
    "        mutMapping[site] = preMut + siteMapping[site] + postMut"
   ]
  },
  {
   "cell_type": "code",
   "execution_count": null,
   "metadata": {},
   "outputs": [],
   "source": [
    "variant_AA = pd.read_csv(os.path.join(SNP_DIR, \"variant_AA_S_50.csv\"), header=None, index_col=0)\n",
    "\n",
    "rowNames = tuple(mutMapping[str(siteName)] for siteName in variant_AA.index)"
   ]
  },
  {
   "cell_type": "code",
   "execution_count": null,
   "metadata": {},
   "outputs": [],
   "source": [
    "aligned = MultipleSeqAlignment(repSeqs)\n",
    "\n",
    "with open(os.path.join(SNP_DIR, \"snp_AA_trimmed.csv\"), 'w', newline='') as f:\n",
    "    spamwriter = csv.writer(f, delimiter=',')\n",
    "    spamwriter.writerow((\"gisaid_id\", *rowNames))\n",
    "    for record in aligned:\n",
    "        snp = tuple(0 if base == ref or base in (\"-\", \"X\") else 1 for ref, base in zip(reference, record))\n",
    "        if sum(snp):\n",
    "            if snp[32] == 1 and sum(snp) == 1:\n",
    "                pass\n",
    "            else:\n",
    "                spamwriter.writerow((record.id, *snp))"
   ]
  },
  {
   "cell_type": "code",
   "execution_count": null,
   "metadata": {},
   "outputs": [],
   "source": [
    "aligned = AlignIO.read(os.path.join(SNP_DIR, \"spike_AA_selected.fasta\"), \"fasta\")\n",
    "\n",
    "with open(os.path.join(SNP_DIR, \"snp_AA.csv\"), 'w', newline='') as f:\n",
    "    spamwriter = csv.writer(f, delimiter=',')\n",
    "    spamwriter.writerow((\"gisaid_id\", *rowNames))\n",
    "    for record in aligned:\n",
    "        snp = tuple(0 if base == ref or base in (\"-\", \"X\") else 1 for ref, base in zip(reference, record))\n",
    "        if sum(snp):\n",
    "            if snp[32] == 1 and sum(snp) == 1:\n",
    "                pass\n",
    "            else:\n",
    "                spamwriter.writerow((record.id, *snp))"
   ]
  },
  {
   "cell_type": "markdown",
   "metadata": {},
   "source": [
    "# Spike gene sequence"
   ]
  },
  {
   "cell_type": "code",
   "execution_count": null,
   "metadata": {},
   "outputs": [],
   "source": [
    "seqs = SeqIO.index(os.path.join(SNP_DIR,\"spike_selected.fasta\"), \"fasta\")\n",
    "\n",
    "reference = seqs[REFERENCE]"
   ]
  },
  {
   "cell_type": "code",
   "execution_count": null,
   "metadata": {},
   "outputs": [],
   "source": [
    "trimmedRow = []\n",
    "repSeqs = []\n",
    "\n",
    "with open(os.path.join(SNP_DIR, \"trimmed.csv\"), \"w\") as csvfile:\n",
    "    spamwriter = csv.DictWriter(csvfile, delimiter='\\t', fieldnames = [\"rep\", \"trimmed\"])\n",
    "    spamwriter.writeheader()\n",
    "    with open(os.path.join(SNP_DIR, \"Trim_S.fasta.clstr\")) as f:\n",
    "        repID = None\n",
    "        accessions = []\n",
    "        for line in f:\n",
    "            if line.startswith('>'):\n",
    "                if repID:\n",
    "                    repSeqs.append(seqs[repID])\n",
    "                if len(accessions) > 1:\n",
    "                    spamwriter.writerow({\"rep\": repID, \"trimmed\": ', '.join(accessions) })\n",
    "                if REFERENCE in accessions:\n",
    "                    print(repID)\n",
    "                accessions = []\n",
    "            else:\n",
    "                m = re.findall(r\">(\\w+)\", line)[0]\n",
    "                if '*' in line:\n",
    "                    repID = m\n",
    "                accessions.append(m)\n",
    "        if len(accessions) > 1:\n",
    "            repSeqs.append(seqs[repID])\n",
    "            spamwriter.writerow({\"rep\": repID, \"trimmed\": ', '.join(accessions) })\n",
    "        if REFERENCE in accessions:\n",
    "            print(repID)"
   ]
  },
  {
   "cell_type": "code",
   "execution_count": null,
   "metadata": {},
   "outputs": [],
   "source": [
    "aligned = MultipleSeqAlignment(repSeqs)\n",
    "\n",
    "with open(os.path.join(SNP_DIR, \"snp_trimmed.csv\"), 'w', newline='') as f:\n",
    "    spamwriter = csv.writer(f, delimiter=',')\n",
    "    for record in aligned:\n",
    "        snp = (0 if base == ref or base in (\"-\", \"N\") else 1 for ref, base in zip(reference, record))\n",
    "        spamwriter.writerow((record.id, *snp))"
   ]
  }
 ],
 "metadata": {
  "kernelspec": {
   "display_name": "Python 3",
   "language": "python",
   "name": "python3"
  },
  "language_info": {
   "codemirror_mode": {
    "name": "ipython",
    "version": 3
   },
   "file_extension": ".py",
   "mimetype": "text/x-python",
   "name": "python",
   "nbconvert_exporter": "python",
   "pygments_lexer": "ipython3",
   "version": "3.7.3"
  }
 },
 "nbformat": 4,
 "nbformat_minor": 4
}
